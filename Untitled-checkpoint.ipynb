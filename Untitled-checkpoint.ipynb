{
 "cells": [
  {
   "cell_type": "code",
   "execution_count": 28,
   "id": "1b419be4-750b-429f-ae93-792d4792c744",
   "metadata": {},
   "outputs": [
    {
     "name": "stdout",
     "output_type": "stream",
     "text": [
      "   CustomerID  Tenure  MonthlyCharges  TotalCharges Churn InternetService  \\\n",
      "0           1      52           88.46       4599.92    No     Fiber optic   \n",
      "1           2      15           86.42       1296.30    No     Fiber optic   \n",
      "2           3      61           51.77       3157.97   Yes     Fiber optic   \n",
      "3           4      21           73.45       1542.45    No             DSL   \n",
      "4           5      24           36.40        873.60    No              No   \n",
      "5           6       3           43.45        130.35    No     Fiber optic   \n",
      "\n",
      "         Contract     PaymentMethod PhoneService  \n",
      "0        One year      Mailed check          Yes  \n",
      "1        One year               NaN          Yes  \n",
      "2  Month-to-month  Electronic check          Yes  \n",
      "3        One year       Credit card          Yes  \n",
      "4        Two year     Bank transfer          Yes  \n",
      "5  Month-to-month  Electronic check          Yes  \n"
     ]
    }
   ],
   "source": [
    "import pandas as pd\n",
    "df = pd.read_csv(r\"E:\\project\\21\\customer_churn_data.csv\")\n",
    "print(df.head(6))\n"
   ]
  },
  {
   "cell_type": "code",
   "execution_count": 5,
   "id": "fedd97d6-e85f-47cb-99fe-9c0b21a6a564",
   "metadata": {},
   "outputs": [
    {
     "data": {
      "text/plain": [
       "(1000, 9)"
      ]
     },
     "execution_count": 5,
     "metadata": {},
     "output_type": "execute_result"
    }
   ],
   "source": [
    "df.shape"
   ]
  },
  {
   "cell_type": "code",
   "execution_count": 6,
   "id": "37d625e6-f3ce-4d83-b034-ce3aa8323a5e",
   "metadata": {},
   "outputs": [
    {
     "name": "stdout",
     "output_type": "stream",
     "text": [
      "<class 'pandas.core.frame.DataFrame'>\n",
      "RangeIndex: 1000 entries, 0 to 999\n",
      "Data columns (total 9 columns):\n",
      " #   Column           Non-Null Count  Dtype  \n",
      "---  ------           --------------  -----  \n",
      " 0   CustomerID       1000 non-null   int64  \n",
      " 1   Tenure           1000 non-null   int64  \n",
      " 2   MonthlyCharges   1000 non-null   float64\n",
      " 3   TotalCharges     950 non-null    float64\n",
      " 4   Churn            1000 non-null   object \n",
      " 5   InternetService  950 non-null    object \n",
      " 6   Contract         1000 non-null   object \n",
      " 7   PaymentMethod    950 non-null    object \n",
      " 8   PhoneService     1000 non-null   object \n",
      "dtypes: float64(2), int64(2), object(5)\n",
      "memory usage: 70.4+ KB\n"
     ]
    }
   ],
   "source": [
    "df.info()"
   ]
  },
  {
   "cell_type": "code",
   "execution_count": 7,
   "id": "1a34abca-b5c5-407c-a517-96b26f9bd473",
   "metadata": {},
   "outputs": [
    {
     "name": "stdout",
     "output_type": "stream",
     "text": [
      "CustomerID          0\n",
      "Tenure              0\n",
      "MonthlyCharges      0\n",
      "TotalCharges       50\n",
      "Churn               0\n",
      "InternetService    50\n",
      "Contract            0\n",
      "PaymentMethod      50\n",
      "PhoneService        0\n",
      "dtype: int64\n"
     ]
    }
   ],
   "source": [
    "missing_values = df.isnull().sum()\n",
    "print(missing_values)"
   ]
  },
  {
   "cell_type": "code",
   "execution_count": 10,
   "id": "3ff54328-6d2b-4078-9fb2-798455ec84d1",
   "metadata": {},
   "outputs": [
    {
     "data": {
      "text/html": [
       "<div>\n",
       "<style scoped>\n",
       "    .dataframe tbody tr th:only-of-type {\n",
       "        vertical-align: middle;\n",
       "    }\n",
       "\n",
       "    .dataframe tbody tr th {\n",
       "        vertical-align: top;\n",
       "    }\n",
       "\n",
       "    .dataframe thead th {\n",
       "        text-align: right;\n",
       "    }\n",
       "</style>\n",
       "<table border=\"1\" class=\"dataframe\">\n",
       "  <thead>\n",
       "    <tr style=\"text-align: right;\">\n",
       "      <th></th>\n",
       "      <th>CustomerID</th>\n",
       "      <th>Tenure</th>\n",
       "      <th>MonthlyCharges</th>\n",
       "      <th>TotalCharges</th>\n",
       "      <th>Churn</th>\n",
       "      <th>InternetService</th>\n",
       "      <th>Contract</th>\n",
       "      <th>PaymentMethod</th>\n",
       "      <th>PhoneService</th>\n",
       "    </tr>\n",
       "  </thead>\n",
       "  <tbody>\n",
       "    <tr>\n",
       "      <th>0</th>\n",
       "      <td>1</td>\n",
       "      <td>52</td>\n",
       "      <td>88.46</td>\n",
       "      <td>4599.92</td>\n",
       "      <td>No</td>\n",
       "      <td>Fiber optic</td>\n",
       "      <td>One year</td>\n",
       "      <td>Mailed check</td>\n",
       "      <td>Yes</td>\n",
       "    </tr>\n",
       "    <tr>\n",
       "      <th>2</th>\n",
       "      <td>3</td>\n",
       "      <td>61</td>\n",
       "      <td>51.77</td>\n",
       "      <td>3157.97</td>\n",
       "      <td>Yes</td>\n",
       "      <td>Fiber optic</td>\n",
       "      <td>Month-to-month</td>\n",
       "      <td>Electronic check</td>\n",
       "      <td>Yes</td>\n",
       "    </tr>\n",
       "    <tr>\n",
       "      <th>3</th>\n",
       "      <td>4</td>\n",
       "      <td>21</td>\n",
       "      <td>73.45</td>\n",
       "      <td>1542.45</td>\n",
       "      <td>No</td>\n",
       "      <td>DSL</td>\n",
       "      <td>One year</td>\n",
       "      <td>Credit card</td>\n",
       "      <td>Yes</td>\n",
       "    </tr>\n",
       "    <tr>\n",
       "      <th>4</th>\n",
       "      <td>5</td>\n",
       "      <td>24</td>\n",
       "      <td>36.40</td>\n",
       "      <td>873.60</td>\n",
       "      <td>No</td>\n",
       "      <td>No</td>\n",
       "      <td>Two year</td>\n",
       "      <td>Bank transfer</td>\n",
       "      <td>Yes</td>\n",
       "    </tr>\n",
       "    <tr>\n",
       "      <th>5</th>\n",
       "      <td>6</td>\n",
       "      <td>3</td>\n",
       "      <td>43.45</td>\n",
       "      <td>130.35</td>\n",
       "      <td>No</td>\n",
       "      <td>Fiber optic</td>\n",
       "      <td>Month-to-month</td>\n",
       "      <td>Electronic check</td>\n",
       "      <td>Yes</td>\n",
       "    </tr>\n",
       "    <tr>\n",
       "      <th>...</th>\n",
       "      <td>...</td>\n",
       "      <td>...</td>\n",
       "      <td>...</td>\n",
       "      <td>...</td>\n",
       "      <td>...</td>\n",
       "      <td>...</td>\n",
       "      <td>...</td>\n",
       "      <td>...</td>\n",
       "      <td>...</td>\n",
       "    </tr>\n",
       "    <tr>\n",
       "      <th>994</th>\n",
       "      <td>995</td>\n",
       "      <td>67</td>\n",
       "      <td>56.92</td>\n",
       "      <td>3813.64</td>\n",
       "      <td>No</td>\n",
       "      <td>No</td>\n",
       "      <td>Two year</td>\n",
       "      <td>Bank transfer</td>\n",
       "      <td>Yes</td>\n",
       "    </tr>\n",
       "    <tr>\n",
       "      <th>995</th>\n",
       "      <td>996</td>\n",
       "      <td>51</td>\n",
       "      <td>20.75</td>\n",
       "      <td>1058.25</td>\n",
       "      <td>No</td>\n",
       "      <td>No</td>\n",
       "      <td>Month-to-month</td>\n",
       "      <td>Credit card</td>\n",
       "      <td>Yes</td>\n",
       "    </tr>\n",
       "    <tr>\n",
       "      <th>997</th>\n",
       "      <td>998</td>\n",
       "      <td>34</td>\n",
       "      <td>78.12</td>\n",
       "      <td>2656.08</td>\n",
       "      <td>No</td>\n",
       "      <td>Fiber optic</td>\n",
       "      <td>Month-to-month</td>\n",
       "      <td>Bank transfer</td>\n",
       "      <td>Yes</td>\n",
       "    </tr>\n",
       "    <tr>\n",
       "      <th>998</th>\n",
       "      <td>999</td>\n",
       "      <td>35</td>\n",
       "      <td>99.34</td>\n",
       "      <td>3476.90</td>\n",
       "      <td>No</td>\n",
       "      <td>Fiber optic</td>\n",
       "      <td>One year</td>\n",
       "      <td>Bank transfer</td>\n",
       "      <td>Yes</td>\n",
       "    </tr>\n",
       "    <tr>\n",
       "      <th>999</th>\n",
       "      <td>1000</td>\n",
       "      <td>32</td>\n",
       "      <td>27.93</td>\n",
       "      <td>893.76</td>\n",
       "      <td>No</td>\n",
       "      <td>Fiber optic</td>\n",
       "      <td>Month-to-month</td>\n",
       "      <td>Electronic check</td>\n",
       "      <td>Yes</td>\n",
       "    </tr>\n",
       "  </tbody>\n",
       "</table>\n",
       "<p>859 rows × 9 columns</p>\n",
       "</div>"
      ],
      "text/plain": [
       "     CustomerID  Tenure  MonthlyCharges  TotalCharges Churn InternetService  \\\n",
       "0             1      52           88.46       4599.92    No     Fiber optic   \n",
       "2             3      61           51.77       3157.97   Yes     Fiber optic   \n",
       "3             4      21           73.45       1542.45    No             DSL   \n",
       "4             5      24           36.40        873.60    No              No   \n",
       "5             6       3           43.45        130.35    No     Fiber optic   \n",
       "..          ...     ...             ...           ...   ...             ...   \n",
       "994         995      67           56.92       3813.64    No              No   \n",
       "995         996      51           20.75       1058.25    No              No   \n",
       "997         998      34           78.12       2656.08    No     Fiber optic   \n",
       "998         999      35           99.34       3476.90    No     Fiber optic   \n",
       "999        1000      32           27.93        893.76    No     Fiber optic   \n",
       "\n",
       "           Contract     PaymentMethod PhoneService  \n",
       "0          One year      Mailed check          Yes  \n",
       "2    Month-to-month  Electronic check          Yes  \n",
       "3          One year       Credit card          Yes  \n",
       "4          Two year     Bank transfer          Yes  \n",
       "5    Month-to-month  Electronic check          Yes  \n",
       "..              ...               ...          ...  \n",
       "994        Two year     Bank transfer          Yes  \n",
       "995  Month-to-month       Credit card          Yes  \n",
       "997  Month-to-month     Bank transfer          Yes  \n",
       "998        One year     Bank transfer          Yes  \n",
       "999  Month-to-month  Electronic check          Yes  \n",
       "\n",
       "[859 rows x 9 columns]"
      ]
     },
     "execution_count": 10,
     "metadata": {},
     "output_type": "execute_result"
    }
   ],
   "source": [
    "df= df.dropna()\n",
    "df"
   ]
  },
  {
   "cell_type": "code",
   "execution_count": 11,
   "id": "226a5532-33d5-4e9c-9e57-b3753b6a1708",
   "metadata": {},
   "outputs": [
    {
     "name": "stdout",
     "output_type": "stream",
     "text": [
      "CustomerID         0\n",
      "Tenure             0\n",
      "MonthlyCharges     0\n",
      "TotalCharges       0\n",
      "Churn              0\n",
      "InternetService    0\n",
      "Contract           0\n",
      "PaymentMethod      0\n",
      "PhoneService       0\n",
      "dtype: int64\n"
     ]
    }
   ],
   "source": [
    "print(df.isnull().sum()) \n"
   ]
  },
  {
   "cell_type": "code",
   "execution_count": 12,
   "id": "1fb8e60f-3885-4b5e-91bd-d55027fec003",
   "metadata": {},
   "outputs": [
    {
     "name": "stdout",
     "output_type": "stream",
     "text": [
      "CustomerID           int64\n",
      "Tenure               int64\n",
      "MonthlyCharges     float64\n",
      "TotalCharges       float64\n",
      "Churn               object\n",
      "InternetService     object\n",
      "Contract            object\n",
      "PaymentMethod       object\n",
      "PhoneService        object\n",
      "dtype: object\n"
     ]
    }
   ],
   "source": [
    "print(df.dtypes)"
   ]
  },
  {
   "cell_type": "code",
   "execution_count": 15,
   "id": "0f75da4c-11e9-4881-b303-226f3e55510f",
   "metadata": {},
   "outputs": [
    {
     "data": {
      "text/html": [
       "<div>\n",
       "<style scoped>\n",
       "    .dataframe tbody tr th:only-of-type {\n",
       "        vertical-align: middle;\n",
       "    }\n",
       "\n",
       "    .dataframe tbody tr th {\n",
       "        vertical-align: top;\n",
       "    }\n",
       "\n",
       "    .dataframe thead th {\n",
       "        text-align: right;\n",
       "    }\n",
       "</style>\n",
       "<table border=\"1\" class=\"dataframe\">\n",
       "  <thead>\n",
       "    <tr style=\"text-align: right;\">\n",
       "      <th></th>\n",
       "      <th>CustomerID</th>\n",
       "      <th>Tenure</th>\n",
       "      <th>MonthlyCharges</th>\n",
       "      <th>TotalCharges</th>\n",
       "      <th>Churn</th>\n",
       "      <th>InternetService</th>\n",
       "      <th>Contract</th>\n",
       "      <th>PaymentMethod</th>\n",
       "      <th>PhoneService</th>\n",
       "    </tr>\n",
       "  </thead>\n",
       "  <tbody>\n",
       "    <tr>\n",
       "      <th>0</th>\n",
       "      <td>1</td>\n",
       "      <td>52</td>\n",
       "      <td>88.46</td>\n",
       "      <td>4599.92</td>\n",
       "      <td>No</td>\n",
       "      <td>Fiber optic</td>\n",
       "      <td>One year</td>\n",
       "      <td>Mailed check</td>\n",
       "      <td>Yes</td>\n",
       "    </tr>\n",
       "    <tr>\n",
       "      <th>2</th>\n",
       "      <td>3</td>\n",
       "      <td>61</td>\n",
       "      <td>51.77</td>\n",
       "      <td>3157.97</td>\n",
       "      <td>Yes</td>\n",
       "      <td>Fiber optic</td>\n",
       "      <td>Month-to-month</td>\n",
       "      <td>Electronic check</td>\n",
       "      <td>Yes</td>\n",
       "    </tr>\n",
       "    <tr>\n",
       "      <th>3</th>\n",
       "      <td>4</td>\n",
       "      <td>21</td>\n",
       "      <td>73.45</td>\n",
       "      <td>1542.45</td>\n",
       "      <td>No</td>\n",
       "      <td>DSL</td>\n",
       "      <td>One year</td>\n",
       "      <td>Credit card</td>\n",
       "      <td>Yes</td>\n",
       "    </tr>\n",
       "    <tr>\n",
       "      <th>4</th>\n",
       "      <td>5</td>\n",
       "      <td>24</td>\n",
       "      <td>36.40</td>\n",
       "      <td>873.60</td>\n",
       "      <td>No</td>\n",
       "      <td>No</td>\n",
       "      <td>Two year</td>\n",
       "      <td>Bank transfer</td>\n",
       "      <td>Yes</td>\n",
       "    </tr>\n",
       "    <tr>\n",
       "      <th>5</th>\n",
       "      <td>6</td>\n",
       "      <td>3</td>\n",
       "      <td>43.45</td>\n",
       "      <td>130.35</td>\n",
       "      <td>No</td>\n",
       "      <td>Fiber optic</td>\n",
       "      <td>Month-to-month</td>\n",
       "      <td>Electronic check</td>\n",
       "      <td>Yes</td>\n",
       "    </tr>\n",
       "    <tr>\n",
       "      <th>...</th>\n",
       "      <td>...</td>\n",
       "      <td>...</td>\n",
       "      <td>...</td>\n",
       "      <td>...</td>\n",
       "      <td>...</td>\n",
       "      <td>...</td>\n",
       "      <td>...</td>\n",
       "      <td>...</td>\n",
       "      <td>...</td>\n",
       "    </tr>\n",
       "    <tr>\n",
       "      <th>994</th>\n",
       "      <td>995</td>\n",
       "      <td>67</td>\n",
       "      <td>56.92</td>\n",
       "      <td>3813.64</td>\n",
       "      <td>No</td>\n",
       "      <td>No</td>\n",
       "      <td>Two year</td>\n",
       "      <td>Bank transfer</td>\n",
       "      <td>Yes</td>\n",
       "    </tr>\n",
       "    <tr>\n",
       "      <th>995</th>\n",
       "      <td>996</td>\n",
       "      <td>51</td>\n",
       "      <td>20.75</td>\n",
       "      <td>1058.25</td>\n",
       "      <td>No</td>\n",
       "      <td>No</td>\n",
       "      <td>Month-to-month</td>\n",
       "      <td>Credit card</td>\n",
       "      <td>Yes</td>\n",
       "    </tr>\n",
       "    <tr>\n",
       "      <th>997</th>\n",
       "      <td>998</td>\n",
       "      <td>34</td>\n",
       "      <td>78.12</td>\n",
       "      <td>2656.08</td>\n",
       "      <td>No</td>\n",
       "      <td>Fiber optic</td>\n",
       "      <td>Month-to-month</td>\n",
       "      <td>Bank transfer</td>\n",
       "      <td>Yes</td>\n",
       "    </tr>\n",
       "    <tr>\n",
       "      <th>998</th>\n",
       "      <td>999</td>\n",
       "      <td>35</td>\n",
       "      <td>99.34</td>\n",
       "      <td>3476.90</td>\n",
       "      <td>No</td>\n",
       "      <td>Fiber optic</td>\n",
       "      <td>One year</td>\n",
       "      <td>Bank transfer</td>\n",
       "      <td>Yes</td>\n",
       "    </tr>\n",
       "    <tr>\n",
       "      <th>999</th>\n",
       "      <td>1000</td>\n",
       "      <td>32</td>\n",
       "      <td>27.93</td>\n",
       "      <td>893.76</td>\n",
       "      <td>No</td>\n",
       "      <td>Fiber optic</td>\n",
       "      <td>Month-to-month</td>\n",
       "      <td>Electronic check</td>\n",
       "      <td>Yes</td>\n",
       "    </tr>\n",
       "  </tbody>\n",
       "</table>\n",
       "<p>859 rows × 9 columns</p>\n",
       "</div>"
      ],
      "text/plain": [
       "     CustomerID  Tenure  MonthlyCharges  TotalCharges Churn InternetService  \\\n",
       "0             1      52           88.46       4599.92    No     Fiber optic   \n",
       "2             3      61           51.77       3157.97   Yes     Fiber optic   \n",
       "3             4      21           73.45       1542.45    No             DSL   \n",
       "4             5      24           36.40        873.60    No              No   \n",
       "5             6       3           43.45        130.35    No     Fiber optic   \n",
       "..          ...     ...             ...           ...   ...             ...   \n",
       "994         995      67           56.92       3813.64    No              No   \n",
       "995         996      51           20.75       1058.25    No              No   \n",
       "997         998      34           78.12       2656.08    No     Fiber optic   \n",
       "998         999      35           99.34       3476.90    No     Fiber optic   \n",
       "999        1000      32           27.93        893.76    No     Fiber optic   \n",
       "\n",
       "           Contract     PaymentMethod PhoneService  \n",
       "0          One year      Mailed check          Yes  \n",
       "2    Month-to-month  Electronic check          Yes  \n",
       "3          One year       Credit card          Yes  \n",
       "4          Two year     Bank transfer          Yes  \n",
       "5    Month-to-month  Electronic check          Yes  \n",
       "..              ...               ...          ...  \n",
       "994        Two year     Bank transfer          Yes  \n",
       "995  Month-to-month       Credit card          Yes  \n",
       "997  Month-to-month     Bank transfer          Yes  \n",
       "998        One year     Bank transfer          Yes  \n",
       "999  Month-to-month  Electronic check          Yes  \n",
       "\n",
       "[859 rows x 9 columns]"
      ]
     },
     "execution_count": 15,
     "metadata": {},
     "output_type": "execute_result"
    }
   ],
   "source": [
    "for col in df.select_dtypes(include=['object']).columns:\n",
    "    df.loc[:, col] = df[col].astype('category')\n",
    "df # change object to category"
   ]
  },
  {
   "cell_type": "code",
   "execution_count": 16,
   "id": "4f3293c2-c5b8-49c1-bf85-3563550b8ae5",
   "metadata": {},
   "outputs": [
    {
     "name": "stdout",
     "output_type": "stream",
     "text": [
      "CustomerID            int64\n",
      "Tenure                int64\n",
      "MonthlyCharges      float64\n",
      "TotalCharges        float64\n",
      "Churn              category\n",
      "InternetService    category\n",
      "Contract           category\n",
      "PaymentMethod      category\n",
      "PhoneService       category\n",
      "dtype: object\n"
     ]
    }
   ],
   "source": [
    "print(df.dtypes)"
   ]
  },
  {
   "cell_type": "code",
   "execution_count": 17,
   "id": "efd737d0-a787-4f20-9228-6f30b260ab01",
   "metadata": {},
   "outputs": [
    {
     "name": "stdout",
     "output_type": "stream",
     "text": [
      "Unique values in Churn: ['No', 'Yes']\n",
      "Categories (2, object): ['No', 'Yes']\n",
      "\n",
      "Unique values in InternetService: ['Fiber optic', 'DSL', 'No']\n",
      "Categories (3, object): ['DSL', 'Fiber optic', 'No']\n",
      "\n",
      "Unique values in Contract: ['One year', 'Month-to-month', 'Two year']\n",
      "Categories (3, object): ['Month-to-month', 'One year', 'Two year']\n",
      "\n",
      "Unique values in PaymentMethod: ['Mailed check', 'Electronic check', 'Credit card', 'Bank transfer']\n",
      "Categories (4, object): ['Bank transfer', 'Credit card', 'Electronic check', 'Mailed check']\n",
      "\n",
      "Unique values in PhoneService: ['Yes', 'No']\n",
      "Categories (2, object): ['No', 'Yes']\n",
      "\n"
     ]
    }
   ],
   "source": [
    "for col in df.select_dtypes(include=['category']).columns:\n",
    "    print(f\"Unique values in {col}: {df[col].unique()}\\n\")\n"
   ]
  },
  {
   "cell_type": "code",
   "execution_count": 18,
   "id": "1c9c5f68-875e-460f-9e93-77976d4a1244",
   "metadata": {},
   "outputs": [
    {
     "name": "stdout",
     "output_type": "stream",
     "text": [
      "        CustomerID      Tenure  MonthlyCharges  TotalCharges\n",
      "count   859.000000  859.000000      859.000000    859.000000\n",
      "mean    497.364377   35.941793       59.881362   2154.543888\n",
      "std     285.716690   20.578835       23.484105   1578.496314\n",
      "min       1.000000    1.000000       20.400000     20.970000\n",
      "25%     251.500000   18.000000       38.545000    866.765000\n",
      "50%     497.000000   36.000000       60.670000   1771.740000\n",
      "75%     741.500000   54.000000       79.450000   3218.700000\n",
      "max    1000.000000   71.000000       99.950000   6926.050000\n"
     ]
    }
   ],
   "source": [
    "print(df.describe()) \n"
   ]
  },
  {
   "cell_type": "code",
   "execution_count": 19,
   "id": "c493b1c4-612b-441a-a746-0f9418fb1386",
   "metadata": {},
   "outputs": [
    {
     "data": {
      "text/plain": [
       "Contract\n",
       "Month-to-month    435\n",
       "One year          253\n",
       "Two year          171\n",
       "Name: count, dtype: int64"
      ]
     },
     "execution_count": 19,
     "metadata": {},
     "output_type": "execute_result"
    }
   ],
   "source": [
    "df['Contract'].value_counts()\n"
   ]
  },
  {
   "cell_type": "code",
   "execution_count": 20,
   "id": "659230fc-0d60-4949-b7a1-6794189fcaea",
   "metadata": {},
   "outputs": [
    {
     "name": "stdout",
     "output_type": "stream",
     "text": [
      "Churn\n",
      "No     597\n",
      "Yes    262\n",
      "Name: count, dtype: int64\n"
     ]
    }
   ],
   "source": [
    "\n",
    "print(df['Churn'].value_counts())\n"
   ]
  },
  {
   "cell_type": "code",
   "execution_count": 21,
   "id": "0cff374d-ae97-4208-8fd6-521eb194b72b",
   "metadata": {},
   "outputs": [
    {
     "data": {
      "image/png": "[encoded data removed]",
      "text/plain": [
       "<Figure size 600x400 with 1 Axes>"
      ]
     },
     "metadata": {},
     "output_type": "display_data"
    }
   ],
   "source": [
    "import matplotlib.pyplot as plt\n",
    "\n",
    "# Count occurrences of each category\n",
    "churn_counts = df['Churn'].value_counts()\n",
    "\n",
    "# Plot bar chart\n",
    "plt.figure(figsize=(6, 4))\n",
    "churn_counts.plot(kind='bar', color=['green', 'red'])\n",
    "plt.title('Distribution of Churned vs. Non-Churned Customers')\n",
    "plt.xlabel('Churn')\n",
    "plt.ylabel('Count')\n",
    "plt.xticks(rotation=0)\n",
    "plt.show()\n"
   ]
  },
  {
   "cell_type": "code",
   "execution_count": 22,
   "id": "ce8ebd3a-e52a-4a82-9102-c8f0969eeed2",
   "metadata": {},
   "outputs": [
    {
     "name": "stderr",
     "output_type": "stream",
     "text": [
      "C:\\Users\\HI\\AppData\\Local\\Temp\\ipykernel_7328\\688763008.py:4: FutureWarning: \n",
      "\n",
      "Passing `palette` without assigning `hue` is deprecated and will be removed in v0.14.0. Assign the `x` variable to `hue` and set `legend=False` for the same effect.\n",
      "\n",
      "  sns.countplot(x='Churn', data=df, palette=['green', 'red'])\n"
     ]
    },
    {
     "data": {
      "image/png": "[encoded data removed]",
      "text/plain": [
       "<Figure size 600x400 with 1 Axes>"
      ]
     },
     "metadata": {},
     "output_type": "display_data"
    }
   ],
   "source": [
    "import seaborn as sns\n",
    "\n",
    "plt.figure(figsize=(6, 4))\n",
    "sns.countplot(x='Churn', data=df, palette=['green', 'red'])\n",
    "plt.title('Distribution of Churned vs. Non-Churned Customers')\n",
    "plt.xlabel('Churn')\n",
    "plt.ylabel('Count')\n",
    "plt.show()\n"
   ]
  },
  {
   "cell_type": "code",
   "execution_count": 23,
   "id": "1d6822ac-6c32-4924-9789-540da42d71d8",
   "metadata": {},
   "outputs": [
    {
     "name": "stderr",
     "output_type": "stream",
     "text": [
      "C:\\Users\\HI\\AppData\\Local\\Temp\\ipykernel_7328\\431213519.py:2: FutureWarning: \n",
      "\n",
      "Passing `palette` without assigning `hue` is deprecated and will be removed in v0.14.0. Assign the `x` variable to `hue` and set `legend=False` for the same effect.\n",
      "\n",
      "  sns.boxplot(x='Churn', y='MonthlyCharges', data=df, palette=['green', 'red'])\n"
     ]
    },
    {
     "data": {
      "image/png": "[encoded data removed]",
      "text/plain": [
       "<Figure size 800x500 with 1 Axes>"
      ]
     },
     "metadata": {},
     "output_type": "display_data"
    }
   ],
   "source": [
    "plt.figure(figsize=(8, 5))\n",
    "sns.boxplot(x='Churn', y='MonthlyCharges', data=df, palette=['green', 'red'])\n",
    "\n",
    "# Add title and labels\n",
    "plt.title('Box Plot of Monthly Charges by Churn')\n",
    "plt.xlabel('Churn')\n",
    "plt.ylabel('Monthly Charges')\n",
    "plt.show()\n"
   ]
  },
  {
   "cell_type": "code",
   "execution_count": 27,
   "id": "3fbf43a5-d83e-4e42-840c-4c39becda767",
   "metadata": {},
   "outputs": [
    {
     "name": "stderr",
     "output_type": "stream",
     "text": [
      "C:\\Users\\HI\\AppData\\Local\\Temp\\ipykernel_7328\\4239230159.py:5: SettingWithCopyWarning: \n",
      "A value is trying to be set on a copy of a slice from a DataFrame.\n",
      "Try using .loc[row_indexer,col_indexer] = value instead\n",
      "\n",
      "See the caveats in the documentation: https://pandas.pydata.org/pandas-docs/stable/user_guide/indexing.html#returning-a-view-versus-a-copy\n",
      "  df['Churn'] = df['Churn'].astype(str).map({'Yes': 1, 'No': 0})\n"
     ]
    },
    {
     "name": "stdout",
     "output_type": "stream",
     "text": [
      "Series([], Name: count, dtype: int64)\n"
     ]
    },
    {
     "data": {
      "image/png": "[encoded data removed]",
      "text/plain": [
       "<Figure size 1000x600 with 2 Axes>"
      ]
     },
     "metadata": {},
     "output_type": "display_data"
    }
   ],
   "source": [
    "import seaborn as sns\n",
    "import matplotlib.pyplot as plt\n",
    "\n",
    "# Convert 'Churn' to object type before mapping\n",
    "df['Churn'] = df['Churn'].astype(str).map({'Yes': 1, 'No': 0})\n",
    "\n",
    "# Check if mapping was successful\n",
    "print(df['Churn'].value_counts())  # Ensure values are 1 and 0\n",
    "\n",
    "# Compute the correlation matrix\n",
    "corr_matrix = df.corr(numeric_only=True)\n",
    "\n",
    "# Plot the heatmap\n",
    "plt.figure(figsize=(10, 6))\n",
    "sns.heatmap(corr_matrix, annot=True, cmap='coolwarm', fmt=\".2f\", linewidths=0.5)\n",
    "\n",
    "plt.title('Correlation Heatmap of Customer Churn Data')\n",
    "plt.show()\n",
    "\n"
   ]
  },
  {
   "cell_type": "code",
   "execution_count": null,
   "id": "22ce7fc5-0df9-418a-a11b-860024c39187",
   "metadata": {},
   "outputs": [],
   "source": []
  }
 ],
 "metadata": {
  "kernelspec": {
   "display_name": "Python 3 (ipykernel)",
   "language": "python",
   "name": "python3"
  },
  "language_info": {
   "codemirror_mode": {
    "name": "ipython",
    "version": 3
   },
   "file_extension": ".py",
   "mimetype": "text/x-python",
   "name": "python",
   "nbconvert_exporter": "python",
   "pygments_lexer": "ipython3",
   "version": "3.12.7"
  }
 },
 "nbformat": 4,
 "nbformat_minor": 5
}
